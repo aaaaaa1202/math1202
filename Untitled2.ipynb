{
  "nbformat": 4,
  "nbformat_minor": 0,
  "metadata": {
    "colab": {
      "provenance": []
    },
    "kernelspec": {
      "name": "python3",
      "display_name": "Python 3"
    },
    "language_info": {
      "name": "python"
    }
  },
  "cells": [
    {
      "cell_type": "code",
      "execution_count": 2,
      "metadata": {
        "colab": {
          "base_uri": "https://localhost:8080/"
        },
        "id": "hxPi8PNaCgIU",
        "outputId": "451420f3-b9bf-4b6b-e853-96620b5f7c4b"
      },
      "outputs": [
        {
          "output_type": "stream",
          "name": "stdout",
          "text": [
            "\n",
            "您想查詢什麼？(藥方名稱/出典/處方/效能/適應症/退出查詢)：藥方名稱\n",
            "小青龍湯\n",
            "\n",
            "您想查詢什麼？(藥方名稱/出典/處方/效能/適應症/退出查詢)：出典\n",
            "小青龍湯的出典為:傷寒論\n",
            "\n",
            "您想查詢什麼？(藥方名稱/出典/處方/效能/適應症/退出查詢)：處方\n",
            "小青龍湯的處方為:\n",
            "麻黃：4公克\n",
            "白芍：4公克\n",
            "五味子：1.5公克\n",
            "乾薑：4公克\n",
            "炙甘草：4公克\n",
            "桂枝：4公克\n",
            "半夏：4公克\n",
            "細辛：1.5公克\n",
            "總克數為：27.0公克\n",
            "\n",
            "您想查詢什麼？(藥方名稱/出典/處方/效能/適應症/退出查詢)：效能\n",
            "小青龍湯的效能是:解表散寒，溫肺化飲\n",
            "\n",
            "您想查詢什麼？(藥方名稱/出典/處方/效能/適應症/退出查詢)：適應症\n",
            "小青龍湯的適應症有:\n",
            "外感風寒\n",
            "內停水飲\n",
            "惡寒發熱\n",
            "無汗\n",
            "咳嗽氣喘\n",
            "痰白清稀\n",
            "\n",
            "您想查詢什麼？(藥方名稱/出典/處方/效能/適應症/退出查詢)：退出查詢\n",
            "感謝使用，再見！\n"
          ]
        }
      ],
      "source": [
        "prescription = {\n",
        "    '名稱': '小青龍湯',\n",
        "    '出典': '傷寒論',\n",
        "    '處方': {\n",
        "        '麻黃': 4,  # 公克\n",
        "        '白芍': 4,\n",
        "        '五味子': 1.5,\n",
        "        '乾薑': 4,\n",
        "        '炙甘草': 4,\n",
        "        '桂枝': 4,\n",
        "        '半夏': 4,\n",
        "        '細辛': 1.5,\n",
        "    },\n",
        "    '效能': '解表散寒，溫肺化飲',\n",
        "    '適應症': ['外感風寒', '內停水飲', '惡寒發熱', '無汗', '咳嗽氣喘', '痰白清稀']\n",
        "}\n",
        "\n",
        "# 使用 while 迴圈提供查詢服務\n",
        "while True:\n",
        "    query = input(\"\\n您想查詢什麼？(藥方名稱/出典/處方/效能/適應症/退出查詢)：\")\n",
        "\n",
        "    if query == \"藥方名稱\":\n",
        "        print(f\"{prescription['名稱']}\")\n",
        "    elif query == \"出典\":\n",
        "        print(f\"{prescription['名稱']}的出典為:{prescription['出典']}\")\n",
        "    elif query == \"適應症\":\n",
        "        print(f\"{prescription['名稱']}的適應症有:\")\n",
        "        for symptom in prescription['適應症']:\n",
        "            print(symptom)\n",
        "    elif query == \"處方\":\n",
        "        total_weight = sum(prescription['處方'].values())\n",
        "        print(f\"{prescription['名稱']}的處方為:\")\n",
        "        for medicine, weight in prescription['處方'].items():\n",
        "            print(f\"{medicine}：{weight}公克\")\n",
        "        print(f\"總克數為：{total_weight}公克\")\n",
        "    elif query == \"效能\":\n",
        "        print(f\"{prescription['名稱']}的效能是:{prescription['效能']}\")\n",
        "    elif query == \"退出查詢\":\n",
        "        print(\"感謝使用，再見！\")\n",
        "        break\n",
        "    else:\n",
        "        print(\"輸入無效，請重新輸入。\")"
      ]
    }
  ]
}